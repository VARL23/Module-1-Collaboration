{
 "cells": [
  {
   "cell_type": "code",
   "execution_count": null,
   "id": "1d21dfdc-6b3b-43ad-a9d6-79217c0ba1b4",
   "metadata": {},
   "outputs": [],
   "source": [
    "#Victor Rodriguez\n",
    "#SDEV220\n",
    "#M01 numbers and types\n",
    "\n",
    "#3.1\n",
    "num_secs_per_min = 60\n",
    "num_min_per_hour = 60\n",
    "x = num_secs_per_min * num_min_per_hour\n",
    "print(x)\n",
    "#answer is 3600\n",
    "\n",
    "#3.2\n",
    "seconds_per_hour = x\n",
    "print(seconds_per_hour)\n",
    "#answer is still 3600\n",
    "\n",
    "#3.3\n",
    "y = seconds_per_hour * 24\n",
    "print(y)\n",
    "#answer is 86400\n",
    "\n",
    "#3.4\n",
    "seconds_per_day = y\n",
    "#answer is still 86400\n",
    "\n",
    "#3.5\n",
    "final_answer1 = seconds_per_day / seconds_per_hour\n",
    "#answer is 24.0\n",
    "\n",
    "#3.6\n",
    "final_answer2 = seconds_per_day // seconds_per_hour\n",
    "#answer is 24"
   ]
  }
 ],
 "metadata": {
  "kernelspec": {
   "display_name": "Python 3 (ipykernel)",
   "language": "python",
   "name": "python3"
  },
  "language_info": {
   "codemirror_mode": {
    "name": "ipython",
    "version": 3
   },
   "file_extension": ".py",
   "mimetype": "text/x-python",
   "name": "python",
   "nbconvert_exporter": "python",
   "pygments_lexer": "ipython3",
   "version": "3.12.4"
  }
 },
 "nbformat": 4,
 "nbformat_minor": 5
}
