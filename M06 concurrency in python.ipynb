{
 "cells": [
  {
   "cell_type": "code",
   "execution_count": null,
   "id": "4128d826-1752-4c00-807b-db039ec61fa4",
   "metadata": {},
   "outputs": [],
   "source": [
    "#13.2\n",
    "from datetime import date\n",
    "with open('todaydate.txt','r') as file:\n",
    "    today_string = file.read().rstrip()\n",
    "\n",
    "#13.3\n",
    "date_parse = datetime.strptime(today_string, '%B, %d, %Y')"
   ]
  }
 ],
 "metadata": {
  "kernelspec": {
   "display_name": "Python 3 (ipykernel)",
   "language": "python",
   "name": "python3"
  },
  "language_info": {
   "codemirror_mode": {
    "name": "ipython",
    "version": 3
   },
   "file_extension": ".py",
   "mimetype": "text/x-python",
   "name": "python",
   "nbconvert_exporter": "python",
   "pygments_lexer": "ipython3",
   "version": "3.12.4"
  }
 },
 "nbformat": 4,
 "nbformat_minor": 5
}
