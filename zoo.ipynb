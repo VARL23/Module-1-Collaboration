{
 "cells": [
  {
   "cell_type": "code",
   "execution_count": null,
   "id": "d70b2b13-4c90-4a3e-9315-cad98f98f461",
   "metadata": {},
   "outputs": [],
   "source": [
    "#Victor Rodriguez\n",
    "#SDEV220\n",
    "\n",
    "#11.1\n",
    "#this is the function supposed to be in zoo.py\n",
    "def hours():\n",
    "    print(\"Open 9-5 daily\")\n",
    "\n",
    "#This is then the part calling on the zoo.py function\n",
    "import zoo\n",
    "zoo.hours()\n",
    "\n",
    "#11.2\n",
    "import zoo as menagerie\n",
    "menagerie.hours()\n",
    "\n",
    "#16.8\n",
    "import sqlite3\n",
    "conn = sqlite3.connect(books.db)\n",
    "curs = conn.cursor()\n",
    "curs.execute(\"SELECT from books ORDER BY title DESC\")\n",
    "rows = curs.fetchall()\n",
    "for row in rows:\n",
    "    print(row.title)\n"
   ]
  }
 ],
 "metadata": {
  "kernelspec": {
   "display_name": "Python 3 (ipykernel)",
   "language": "python",
   "name": "python3"
  },
  "language_info": {
   "codemirror_mode": {
    "name": "ipython",
    "version": 3
   },
   "file_extension": ".py",
   "mimetype": "text/x-python",
   "name": "python",
   "nbconvert_exporter": "python",
   "pygments_lexer": "ipython3",
   "version": "3.12.4"
  }
 },
 "nbformat": 4,
 "nbformat_minor": 5
}
