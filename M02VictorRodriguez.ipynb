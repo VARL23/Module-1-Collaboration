{
 "cells": [
  {
   "cell_type": "code",
   "execution_count": null,
   "id": "70f7d00c-5fd4-434f-8a20-8d63ab7599bd",
   "metadata": {},
   "outputs": [],
   "source": [
    "#4.1\n",
    "secret = 7\n",
    "guess = 4\n",
    "if guess < secret:\n",
    "    print(\"Too low\")\n",
    "elif guess > secret:\n",
    "    print(\"Too high\")\n",
    "else:\n",
    "    guess = secret\n",
    "    print(\"Just right\")\n",
    "\n",
    "#4.2\n",
    "small = True\n",
    "green = True\n",
    "if small:\n",
    "    if green:\n",
    "        print(\"It's a pea\")\n",
    "    else:\n",
    "        print(\"It's a cherry\")\n",
    "else:\n",
    "    if green:\n",
    "        print(\"It's a watermelon\")\n",
    "    else:\n",
    "        print(\"It's a pumpkin\")\n",
    "\n",
    "#6.1\n",
    "number_list = [3, 2, 1, 0]\n",
    "for number_list in range (0,4):\n",
    "    print(number_list)\n",
    "\n",
    "#6.2\n",
    "guess_me = 7\n",
    "number = 1\n",
    "while number < guess_me:\n",
    "    print(\"too low\")\n",
    "    number +=1\n",
    "else:\n",
    "    if number == guess_me:\n",
    "        print(\"Got it\")\n",
    "if number > guess_me:\n",
    "    print(\"oops\")\n",
    "\n",
    "#6.3\n",
    "guess_me = 5\n",
    "for number in range(10):\n",
    "    if number < guess_me:\n",
    "        print(\"Too low\")\n",
    "    elif number == guess_me:\n",
    "        print(\"Got it\")\n",
    "        break\n",
    "    else:\n",
    "        number > guess_me\n",
    "        print(\"Too high\")\n",
    "        break\n"
   ]
  }
 ],
 "metadata": {
  "kernelspec": {
   "display_name": "Python 3 (ipykernel)",
   "language": "python",
   "name": "python3"
  },
  "language_info": {
   "codemirror_mode": {
    "name": "ipython",
    "version": 3
   },
   "file_extension": ".py",
   "mimetype": "text/x-python",
   "name": "python",
   "nbconvert_exporter": "python",
   "pygments_lexer": "ipython3",
   "version": "3.12.4"
  }
 },
 "nbformat": 4,
 "nbformat_minor": 5
}
