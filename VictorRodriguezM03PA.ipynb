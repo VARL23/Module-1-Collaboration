{
 "cells": [
  {
   "cell_type": "code",
   "execution_count": null,
   "id": "f7fab7aa-d550-4ad3-acb2-6e255e55e00c",
   "metadata": {},
   "outputs": [],
   "source": [
    "#Victor Rodriguez\n",
    "#SDEV220\n",
    "\n",
    "#7.4\n",
    "things = [\"mozzarella\", \"cinderella\", \"salmonella\"]\n",
    "#7.5\n",
    "things[1] = \"Cinderella\"\n",
    "print(things)\n",
    "#7.6\n",
    "things = [thing.upper() if thing == \"mozzarella\" else thing for thing in things]\n",
    "print(things)\n",
    "#7.7\n",
    "del things[2]\n",
    "print(\"I have recieved my nobel prize\")\n",
    "print(things)\n",
    "\n",
    "#9.1\n",
    "def good()\n",
    "    names = [\"Harry\", \"Ron\", \"Hermoine\"]\n",
    "    print(names)\n",
    "\n",
    "good()\n",
    "\n",
    "#9.2\n",
    "def get_odds():\n",
    "    for number in range(10):\n",
    "        if number % 2 !=0:\n",
    "            yield number\n",
    "\n",
    "count = 0\n",
    "\n",
    "for number in get_odds():\n",
    "    if count <3:\n",
    "        print(number)\n",
    "        count +=1\n",
    "    else:\n",
    "        break"
   ]
  }
 ],
 "metadata": {
  "kernelspec": {
   "display_name": "Python 3 (ipykernel)",
   "language": "python",
   "name": "python3"
  },
  "language_info": {
   "codemirror_mode": {
    "name": "ipython",
    "version": 3
   },
   "file_extension": ".py",
   "mimetype": "text/x-python",
   "name": "python",
   "nbconvert_exporter": "python",
   "pygments_lexer": "ipython3",
   "version": "3.12.4"
  }
 },
 "nbformat": 4,
 "nbformat_minor": 5
}
